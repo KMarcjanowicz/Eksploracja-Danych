{
 "cells": [
  {
   "cell_type": "code",
   "execution_count": null,
   "id": "74ccd578-a63e-4fb3-9e9c-dccde2497e88",
   "metadata": {},
   "outputs": [],
   "source": [
    "from pyspark.ml.tuning import ParamGridBuilder, CrossValidator\n",
    " \n",
    "cols = df2.columns\n",
    "cols.remove('price')\n",
    "va=VectorAssembler().setInputCols(cols).setOutputCol(\"features\")\n",
    "lr=LinearRegression()\\\n",
    "                      .setMaxIter(100)\\\n",
    "                      .setRegParam(1) \\\n",
    "                      .setElasticNetParam(0.5) \\\n",
    "                      .setFeaturesCol(\"features\")\\\n",
    "                      .setLabelCol(\"price\")\n",
    " \n",
    "pipeline = Pipeline(stages=[va,lr])\n",
    " \n",
    " \n",
    "evaluator = RegressionEvaluator(metricName='r2',labelCol='price')\n",
    " \n",
    "crossval = CrossValidator(estimator=pipeline,\n",
    "                          estimatorParamMaps = ParamGridBuilder().build(),\n",
    "                          evaluator=evaluator,\n",
    "                          numFolds=5)\n",
    " \n",
    "# Train the model using cross-validation\n",
    "df_train,df_test = df2.randomSplit([0.9, 0.1],seed=1)\n",
    " \n",
    "cvModel = crossval.fit(df_train)\n",
    "print(f'AVG r2 {cvModel.avgMetrics}')"
   ]
  }
 ],
 "metadata": {
  "kernelspec": {
   "display_name": "Python 3 (ipykernel)",
   "language": "python",
   "name": "python3"
  },
  "language_info": {
   "codemirror_mode": {
    "name": "ipython",
    "version": 3
   },
   "file_extension": ".py",
   "mimetype": "text/x-python",
   "name": "python",
   "nbconvert_exporter": "python",
   "pygments_lexer": "ipython3",
   "version": "3.10.12"
  }
 },
 "nbformat": 4,
 "nbformat_minor": 5
}
